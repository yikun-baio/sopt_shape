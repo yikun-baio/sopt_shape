{
 "cells": [
  {
   "cell_type": "code",
   "execution_count": 1,
   "id": "dda31b5f-df1b-41fe-b96d-73a645b7c875",
   "metadata": {
    "id": "dda31b5f-df1b-41fe-b96d-73a645b7c875",
    "tags": []
   },
   "outputs": [],
   "source": [
    "import numba as nb\n",
    "import torch\n",
    "import numpy as np \n",
    "import os\n",
    "import sys\n",
    "import matplotlib.pyplot as plt\n",
    "from mpl_toolkits import mplot3d\n",
    "import time\n",
    "import torch.optim as optim\n",
    "os.chdir('/home/baly/projects/sopt_shape')\n",
    "from lib.library import *\n",
    "from lib.lib_ot import *\n",
    "from lib.sliced_opt import *\n",
    "from lib.lib_shape import *\n",
    "\n",
    "#import opt1d\n",
    "# !python --version\n",
    "# from google.colab import drive\n",
    "# !pip install numpy --upgrade\n",
    "# !pip install numba --upgrade"
   ]
  },
  {
   "cell_type": "code",
   "execution_count": 7,
   "id": "652bb272-de3f-44d4-a589-5a6ab4e24416",
   "metadata": {
    "tags": []
   },
   "outputs": [],
   "source": [
    "# load data \n",
    "\n",
    "label='male'\n",
    "label_index='_2_49'\n",
    "data=torch.load('data/%s%s.pt'%(label,label_index))\n",
    "# data=torch.load('data/%s_%d_%d.pt'%(label,i,j))\n",
    "\n",
    "method_list={\n",
    "    'SOPT_GD':{'method_func':SOPT_GD,'n_iteration': 2000,'start_epoch':200},\n",
    "    'SOPT_RBF':{'method_func':SOPT_RBF,'n_iteration': 200,'start_epoch':20},\n",
    "    'SOPT_TPS':{'method_func':SOPT_TPS,'n_iteration': 200,'start_epoch':20},\n",
    "    'OPT_RBF':{'method_func':OPT_RBF,'n_iteration': 200,'start_epoch':20},\n",
    "    'OPT_TPS':{'method_func':OPT_TPS,'n_iteration': 200,'start_epoch':20}\n",
    "}\n"
   ]
  },
  {
   "cell_type": "code",
   "execution_count": null,
   "id": "f7151bf8-7eb1-4954-b2ec-1941ecedfbcf",
   "metadata": {
    "tags": []
   },
   "outputs": [
    {
     "name": "stdout",
     "output_type": "stream",
     "text": [
      "result/3D_male_0.05/\n",
      "SOPT_GD\n",
      "endrent, 1999/2000\n",
      "SOPT_RBF\n",
      "current, 0/200\r"
     ]
    },
    {
     "name": "stderr",
     "output_type": "stream",
     "text": [
      "/home/baly/projects/sopt_shape/lib/lib_shape.py:390: UserWarning: The use of `x.T` on tensors of dimension other than 2 to reverse their shape is deprecated and it will throw an error in a future release. Consider `x.mT` to transpose batches of matrices or `x.permute(*torch.arange(x.ndim - 1, -1, -1))` to reverse the dimensions of a tensor. (Triggered internally at ../aten/src/ATen/native/TensorShape.cpp:3571.)\n",
      "  scaling=torch.sum(torch.abs(S.T))/torch.trace(Y_tc.T.mm(Y_tc))\n"
     ]
    },
    {
     "name": "stdout",
     "output_type": "stream",
     "text": [
      "endrent, 199/200\n",
      "SOPT_TPS\n",
      "current, 126/200\r"
     ]
    }
   ],
   "source": [
    "\n",
    "\n",
    "\n",
    "for eta in [0.05,0.10]:\n",
    "    save_path='result/3D_%s_%0.2f/'%(label,eta)\n",
    "    print(save_path)\n",
    "    X0=data['X0']\n",
    "    N0=X0.shape[0]\n",
    "    X=data['X'+str(eta)]\n",
    "    Y=data['Y'+str(eta)]\n",
    "    sigma2,eps=0.1,1.0\n",
    "    device='cuda'\n",
    "\n",
    "    for method in method_list:\n",
    "        print(method)\n",
    "        method_func,n_iteration,start_epoch=method_list[method]['method_func'],method_list[method]['n_iteration'],method_list[method]['start_epoch']\n",
    "        start_time=time.time()\n",
    "        if 'SOPT' in method:\n",
    "            N0+=20\n",
    "        model_list,record_index=method_func(X,Y,N0,n_iteration=n_iteration,start_epoch=start_epoch,threshold=0.8,device=device,numItermax=100000, numThreads=10)\n",
    "\n",
    "        end_time=time.time()\n",
    "        torch.save((model_list,record_index,end_time-start_time),save_path+'%s.pt'%(method))\n",
    "        print('end')"
   ]
  },
  {
   "cell_type": "code",
   "execution_count": 12,
   "id": "5fXU0yUU1JVl",
   "metadata": {
    "id": "5fXU0yUU1JVl",
    "tags": []
   },
   "outputs": [
    {
     "name": "stdout",
     "output_type": "stream",
     "text": [
      "method is SOPT_GD, rocord_index is [   0  105  210  315  420  526  631  736  841  946 1052 1157 1262 1367\n",
      " 1472 1578 1683 1788 1893 1999]\n",
      "<<<<<<<<<<method SOPT_GD\n",
      "<<<<<<<end<<<<<<<<<<<<\n",
      "method is SOPT_RBF, rocord_index is [  0  10  20  31  41  52  62  73  83  94 104 115 125 136 146 157 167 178\n",
      " 188 199]\n",
      "<<<<<<<<<<method SOPT_RBF\n",
      "<<<<<<<end<<<<<<<<<<<<\n",
      "method is SOPT_TPS, rocord_index is [  0  10  20  31  41  52  62  73  83  94 104 115 125 136 146 157 167 178\n",
      " 188 199]\n",
      "<<<<<<<<<<method SOPT_TPS\n",
      "<<<<<<<end<<<<<<<<<<<<\n",
      "method is OPT_RBF, rocord_index is [  0  10  20  31  41  52  62  73  83  94 104 115 125 136 146 157 167 178\n",
      " 188 199]\n",
      "<<<<<<<<<<method OPT_RBF\n",
      "<<<<<<<end<<<<<<<<<<<<\n",
      "method is OPT_TPS, rocord_index is [  0  10  20  31  41  52  62  73  83  94 104 115 125 136 146 157 167 178\n",
      " 188 199]\n",
      "<<<<<<<<<<method OPT_TPS\n",
      "<<<<<<<end<<<<<<<<<<<<\n",
      "method is SOPT_GD, rocord_index is [   0  105  210  315  420  526  631  736  841  946 1052 1157 1262 1367\n",
      " 1472 1578 1683 1788 1893 1999]\n",
      "<<<<<<<<<<method SOPT_GD\n",
      "<<<<<<<end<<<<<<<<<<<<\n",
      "method is SOPT_RBF, rocord_index is [  0  10  20  31  41  52  62  73  83  94 104 115 125 136 146 157 167 178\n",
      " 188 199]\n",
      "<<<<<<<<<<method SOPT_RBF\n",
      "<<<<<<<end<<<<<<<<<<<<\n",
      "method is SOPT_TPS, rocord_index is [  0  10  20  31  41  52  62  73  83  94 104 115 125 136 146 157 167 178\n",
      " 188 199]\n",
      "<<<<<<<<<<method SOPT_TPS\n",
      "<<<<<<<end<<<<<<<<<<<<\n",
      "method is OPT_RBF, rocord_index is [  0  10  20  31  41  52  62  73  83  94 104 115 125 136 146 157 167 178\n",
      " 188 199]\n",
      "<<<<<<<<<<method OPT_RBF\n",
      "<<<<<<<end<<<<<<<<<<<<\n",
      "method is OPT_TPS, rocord_index is [  0  10  20  31  41  52  62  73  83  94 104 115 125 136 146 157 167 178\n",
      " 188 199]\n",
      "<<<<<<<<<<method OPT_TPS\n",
      "<<<<<<<end<<<<<<<<<<<<\n"
     ]
    }
   ],
   "source": [
    "def model_to_Yhat(model_list,X,model='RBF'):\n",
    "  Yhat_list=list()\n",
    "  if model=='RBF':\n",
    "    R_list,beta_list,alpha_list,Phi=model_list\n",
    "    n_iteration=len(alpha_list)\n",
    "    for epoch, (R,beta,alpha) in enumerate(zip(R_list,beta_list,alpha_list)):\n",
    "      Yhat=Phi.dot(alpha)+X.dot(R)+beta\n",
    "      Yhat_list.append(Yhat)\n",
    "\n",
    "  if model=='TPS':\n",
    "    X_bar=np.hstack((np.ones((X.shape[0],1)),X))\n",
    "    B_list,alpha_list,Phi=model_list\n",
    "    n_iteration=len(alpha_list)\n",
    "    for epoch,(B,alpha) in enumerate(zip(B_list,alpha_list)):\n",
    "      Yhat=Phi.dot(alpha)+X_bar.dot(B)\n",
    "      Yhat_list.append(Yhat)\n",
    "\n",
    "  return Yhat_list\n",
    "\n",
    "\n",
    "\n",
    "def make_plot(X,Y,file_name=None):\n",
    "  fig = plt.figure(figsize=(2*800/72,800/72))\n",
    "  ax = fig.add_subplot(projection='3d')\n",
    "  x=X[:,0]\n",
    "  y=X[:,1]\n",
    "  z=X[:,2]\n",
    "  ax.scatter3D(X[:,0], X[:,2], X[:,1], s=0.5,c='r',alpha=0.5) #=X[:,1]*np.sqrt(X[:,0]**2+X[:,2]**2), cmap='bone')\n",
    "\n",
    "  ax.scatter3D(Y[:,0], Y[:,2], Y[:,1], s=0.5,c='b',alpha=0.5) #Y[:,1]*np.sqrt(Y[:,0]**2+Y[:,2]**2), cmap='bone')\n",
    "\n",
    "  ax.set_xlim([-1,1]);ax.set_ylim([-1,1]);ax.set_zlim([-1,1])\n",
    "  ax.view_init(10, 45)\n",
    "  if file_name!=None:\n",
    "      plt.savefig(file_name,dpi=200)\n",
    "  plt.show()\n",
    "\n",
    "def visual_3D(Yhat_list,Y,path,record_index):\n",
    "  for (Yhat,index) in zip(Yhat_list,record_index):\n",
    "    file_name=path+'_'+str(index)+'.pdf'\n",
    "    make_plot(Yhat,Y,file_name)\n",
    "\n",
    "    \n",
    "for eta in [0.05,0.10]:\n",
    "    X=data['X'+str(eta)]\n",
    "    Y=data['Y'+str(eta)]\n",
    "    save_path='result/3D_male_%0.2f/'%eta\n",
    "    for method in method_list:\n",
    "        model_list,record_index,runing_time=torch.load(save_path+'%s.pt'%(method))        \n",
    "        print('method is %s, rocord_index is %s'%(method,record_index))\n",
    "        if 'RBF' in method or 'GD' in method:\n",
    "            model='RBF'\n",
    "        elif 'TPS' in method:\n",
    "            model='TPS'\n",
    "        print('<<<<<<<<<<method %s'%method)\n",
    "        # Yhat_list=model_to_Yhat(model_list,X,model=model)\n",
    "        # path=save_path+'pic/'+method\n",
    "        # visual_3D(Yhat_list,Y,path,record_index)\n",
    "        print('<<<<<<<end<<<<<<<<<<<<')\n"
   ]
  },
  {
   "cell_type": "code",
   "execution_count": 14,
   "id": "9d33524a-90b1-4925-aa4c-f51bdb57bc27",
   "metadata": {
    "tags": []
   },
   "outputs": [
    {
     "name": "stdout",
     "output_type": "stream",
     "text": [
      "20\n",
      "20\n"
     ]
    }
   ],
   "source": [
    "method='OPT_TPS'\n",
    "model_list,record_index,runing_time=torch.load(save_path+'%s.pt'%(method))  \n",
    "print(len(model_list[0]))\n",
    "print(len(record_index))"
   ]
  },
  {
   "cell_type": "code",
   "execution_count": 9,
   "id": "bc9bce41-c504-4828-af6c-b1f02bcc2907",
   "metadata": {
    "tags": []
   },
   "outputs": [
    {
     "name": "stdout",
     "output_type": "stream",
     "text": [
      "test\n"
     ]
    }
   ],
   "source": [
    "print('test')"
   ]
  },
  {
   "cell_type": "code",
   "execution_count": null,
   "id": "GGiRjsR2m3_J",
   "metadata": {
    "id": "GGiRjsR2m3_J"
   },
   "outputs": [],
   "source": [
    "# test model\n",
    "i=19\n",
    "j=2\n",
    "\n",
    "eta=0.05\n",
    "label='female'\n",
    "\n",
    "data=torch.load('data/%s_%d_%d.pt'%(label,i,j))\n",
    "print(label)\n",
    "record_index=[0,1,5,10]\n",
    "\n",
    "\n",
    "\n",
    "X0=data['X0']\n",
    "N0=X0.shape[0]\n",
    "X=data['X0']\n",
    "Y=data['Y0']\n",
    "\n",
    "\n",
    "sigma2=0.1\n",
    "eps=1\n",
    "\n",
    "sample_index=np.unique(np.linspace(0,N0-1,800).astype(np.int64))\n",
    "C=X.copy() #[sample_index] #.copy() #[0:N0] #[sample_index] #[0:N0].copy() \n",
    "Phi=kernel_matrix_Gaussian(C,X[0:N0],sigma2) \n",
    "K,D=C.shape\n",
    "Yhat_op=Y[correspondence]\n",
    "\n",
    "Yhat=Yhat_op.copy()\n",
    "alpha=np.zeros((C.shape))\n",
    "for i in range(1):\n",
    "    Y2=Yhat-Phi.dot(alpha)\n",
    "    R,S=recover_rotation(Y2,X)\n",
    "    #make_plot(X.dot(R)+beta,Y)\n",
    "    beta=vec_mean(Y2)-vec_mean(X.dot(R))\n",
    "    Y=Yhat-X.dot(R)-beta\n",
    "    alpha=recover_alpha(Phi,Y,epsilon=0.1)\n",
    "    Yhat=Phi.dot(alpha)+X.dot(R)+beta\n",
    "    #make_plot(Yhat,Y)\n",
    "print('done')\n",
    "make_plot(Yhat,Y)\n",
    "print('----')\n",
    "\n",
    "Yhat=Yhat_op.copy()\n",
    "Phi=kernel_matrix_TPS(C,X,D=2)\n",
    "X_bar=np.hstack((np.ones((X.shape[0],1)),X))\n",
    "alpha,B=TPS_recover_parameter_cuda(Phi,X_bar,Yhat,epsilon=0.5)\n",
    "\n",
    "Yhat2=Phi.dot(alpha)+X_bar.dot(B) #Phi.dot(alpha)+X.dot(R)+beta     \n",
    "make_plot(Yhat2,Y)\n"
   ]
  },
  {
   "cell_type": "code",
   "execution_count": null,
   "id": "d679e270-91be-43cc-bbb0-f63e36f6ff31",
   "metadata": {
    "id": "d679e270-91be-43cc-bbb0-f63e36f6ff31",
    "tags": []
   },
   "outputs": [],
   "source": [
    "# do not run this one \n",
    "label='neutral'\n",
    "data_list=torch.load('data/'+label+'_list.pt')\n",
    "#data_list=np.array(data_list)\n",
    "data_all={}\n",
    "\n",
    "X=data_list[0] \n",
    "Y=data_list[-1]\n",
    "n,d=X.shape\n",
    "\n",
    "\n",
    "fig = plt.figure(figsize=(2*800/72,800/72))    \n",
    "for n,i in enumerate(np.linspace(-.5,.5,5)):\n",
    "    ax = fig.add_subplot(1, 5, n+1, projection='3d')\n",
    "    data=data_list[n]\n",
    "    x=data[:,0]\n",
    "    y=data[:,1]\n",
    "    z=data[:,2]\n",
    "    ax.scatter3D(x, z, y, c=y*np.sqrt(x**2+z**2), cmap='bone')\n",
    "    ax.set_xlim([-1,1]);ax.set_ylim([-1,1]);ax.set_zlim([-1,1])\n",
    "    ax.view_init(10, 45)\n",
    "plt.show()\n",
    "data_all['0']=data_list\n",
    "\n",
    "\n",
    "# generate 5% noisy data\n",
    "n,d=X.shape\n",
    "data_listY1=[]\n",
    "eta=0.05\n",
    "n_noise=int(n*eta)\n",
    "fig = plt.figure(figsize=(2*800/72,800/72))   \n",
    "for n,data in enumerate(data_list):\n",
    "\n",
    "    noise=np.random.uniform(low=-1.5,high=1.5,size=(n_noise,d))\n",
    "    data=np.concatenate((data,noise))\n",
    "    x=data[:,0]\n",
    "    y=data[:,1]\n",
    "    z=data[:,2]\n",
    "    if n<=4:\n",
    "        ax = fig.add_subplot(1, 5, n+1, projection='3d')\n",
    "        ax.scatter3D(x, z, y, c=y*np.sqrt(x**2+z**2), cmap='bone')\n",
    "        ax.set_xlim([-1,1]);ax.set_ylim([-1,1]);ax.set_zlim([-1,1])\n",
    "        ax.view_init(10, 45)\n",
    "    data_listY1.append(data)\n",
    "plt.show()\n",
    "\n",
    "data_all[str(eta)]=data_listY1\n",
    "\n",
    "\n",
    "# generate 10% noisy data\n",
    "n,d=X.shape\n",
    "data_listY1=[]\n",
    "eta=0.10\n",
    "n_noise=int(n*eta)\n",
    "fig = plt.figure(figsize=(2*800/72,800/72))   \n",
    "for n,data in enumerate(data_list):\n",
    "    \n",
    "    noise=np.random.uniform(low=-1.5,high=1.5,size=(n_noise,d))\n",
    "    data=np.concatenate((data,noise))\n",
    "    if n<=4:\n",
    "        ax = fig.add_subplot(1, 5, n+1, projection='3d')\n",
    "        x=data[:,0]\n",
    "        y=data[:,1]\n",
    "        z=data[:,2]\n",
    "        ax.scatter3D(x, z, y, c=y*np.sqrt(x**2+z**2), cmap='bone')\n",
    "        ax.set_xlim([-1,1]);ax.set_ylim([-1,1]);ax.set_zlim([-1,1])\n",
    "        ax.view_init(10, 45)\n",
    "    data_listY1.append(data)\n",
    "plt.show()\n",
    "data_all[str(eta)]=data_listY1\n",
    "\n",
    "torch.save(data_all,'data/select_'+label+'.pt')\n"
   ]
  },
  {
   "cell_type": "code",
   "execution_count": null,
   "id": "c06224d9-265a-4c97-b87c-5803c1f48fbb",
   "metadata": {
    "id": "c06224d9-265a-4c97-b87c-5803c1f48fbb"
   },
   "outputs": [],
   "source": [
    "\n",
    "@nb.njit()\n",
    "def permutation_inverse(permutation):\n",
    "    N=permutation.shape[0]\n",
    "    Domain=np.arange(N)\n",
    "    mapping=np.stack((Domain,permutation))\n",
    "    mapping_final=mapping[0].take(mapping[1].argsort())\n",
    "    return mapping_final"
   ]
  },
  {
   "cell_type": "code",
   "execution_count": null,
   "id": "40595243-94a1-45ca-8a2d-cd79c1ea28c8",
   "metadata": {
    "id": "40595243-94a1-45ca-8a2d-cd79c1ea28c8"
   },
   "outputs": [],
   "source": [
    "# do not run this one \n",
    "label='male'\n",
    "data_all=torch.load('data/select_%s.pt'%label)\n",
    "i=2\n",
    "j=49\n",
    "\n",
    "X0=data_all['0'][i]\n",
    "Y0=data_all['0'][j]\n",
    "X1=data_all['0'][i]\n",
    "Y1=data_all['0'][j]\n",
    "make_plot(X1,Y1)\n",
    "data={}\n",
    "for eta in [0, 0.05,0.10]:\n",
    "    X=data_all[str(eta)][i]\n",
    "    Y=data_all[str(eta)][j]\n",
    "    theta_0=np.array([np.pi/6,-np.pi/5,np.pi/6])\n",
    "    rotation_0=rotation_in(theta_0)\n",
    "    beta_0=np.array([-0.6,-0.3,0.1])\n",
    "    S_0=1.0 #0.8\n",
    "    permutation=np.random.permutation(N0)\n",
    "    X3=X[0:N0][permutation]\n",
    "    X1=X3.dot(rotation_0)+beta_0\n",
    "    X1=np.concatenate((X1,X[N0:]))\n",
    "    \n",
    "    theta_op=-theta_0 #np.array([np.pi/6,np.pi/4,-np.pi/5])\n",
    "    rotation_op=rotation_re(theta_op)\n",
    "    S_op=1/S_0\n",
    "    beta_op=-S_op*beta_0.dot(rotation_op)\n",
    "    X2=X1.dot(rotation_op)*S_op+beta_op\n",
    "    print(np.linalg.norm(X2[0:N0]-X[0:N0][permutation]))\n",
    "\n",
    "    data['X'+str(eta)]=X1 \n",
    "    data['Y'+str(eta)]=Y\n",
    "    data['permutation'+str(eta)]=permutation\n",
    "    data['theta_op']=theta_op\n",
    "    data['rotation_op']=rotation_op\n",
    "    data['S_op']=S_op\n",
    "torch.save(data,'data/%s_%d_%d.pt'%(label,i,j))\n",
    "\n",
    "make_plot(X1,Y1)\n"
   ]
  }
 ],
 "metadata": {
  "accelerator": "GPU",
  "colab": {
   "gpuType": "T4",
   "machine_shape": "hm",
   "private_outputs": true,
   "provenance": []
  },
  "kernelspec": {
   "display_name": "Python 3 (ipykernel)",
   "language": "python",
   "name": "python3"
  },
  "language_info": {
   "codemirror_mode": {
    "name": "ipython",
    "version": 3
   },
   "file_extension": ".py",
   "mimetype": "text/x-python",
   "name": "python",
   "nbconvert_exporter": "python",
   "pygments_lexer": "ipython3",
   "version": "3.11.3"
  }
 },
 "nbformat": 4,
 "nbformat_minor": 5
}
