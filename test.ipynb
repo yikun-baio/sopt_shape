{
 "cells": [
  {
   "cell_type": "code",
   "execution_count": 3,
   "id": "7088724d-e130-4a09-a100-e4e7ea5c8a19",
   "metadata": {},
   "outputs": [],
   "source": [
    "import torch\n",
    "import numpy as np\n",
    "import cupy as cp"
   ]
  },
  {
   "cell_type": "code",
   "execution_count": 26,
   "id": "b1d04141-91b3-4312-872b-e3834b940d29",
   "metadata": {},
   "outputs": [
    {
     "name": "stdout",
     "output_type": "stream",
     "text": [
      "4.285225371003178e-09\n",
      "4.28497811094099e-09\n"
     ]
    }
   ],
   "source": [
    "n=10\n",
    "X=np.random.rand(n,n)\n",
    "M=X.dot(X.T)\n",
    "\n",
    "def test1(M):\n",
    "    return np.linalg.inv(M)\n",
    "\n",
    "def test2(M):\n",
    "    M_T=torch.from_numpy(M).to(\"cuda:0\")\n",
    "    Inv=torch.linalg.inv(M_T).to(\"cpu\").numpy()\n",
    "    return Inv\n",
    "\n",
    "def test3(M):\n",
    "    M_c=cp.array(M)\n",
    "    Inv=cp.asnumpy(cp.linalg.inv(M_c))\n",
    "    return Inv\n",
    "\n",
    "inv1=test1(M)\n",
    "inv2=test2(M)\n",
    "inv3=test3(M)\n",
    "print(np.linalg.norm(inv1-inv2))\n",
    "print(np.linalg.norm(inv1-inv3))\n"
   ]
  },
  {
   "cell_type": "code",
   "execution_count": 24,
   "id": "e1fb5a0f-5543-4c7c-b58f-8f5bb53d86a5",
   "metadata": {},
   "outputs": [
    {
     "name": "stdout",
     "output_type": "stream",
     "text": [
      "14.2 s ± 424 ms per loop (mean ± std. dev. of 7 runs, 1 loop each)\n",
      "numpy+cpu\n",
      "18.6 ms ± 431 µs per loop (mean ± std. dev. of 7 runs, 10 loops each)\n",
      "torch+cpu\n",
      "18.4 ms ± 235 µs per loop (mean ± std. dev. of 7 runs, 100 loops each)\n",
      "numpy+gpu (cupy)\n"
     ]
    }
   ],
   "source": [
    "\n",
    "%timeit test1(M)\n",
    "print('numpy+cpu')\n",
    "\n",
    "%timeit test2(M)\n",
    "\n",
    "print('torch+cpu')\n",
    "\n",
    "%timeit test3(M)\n",
    "print('numpy+gpu (cupy)')"
   ]
  },
  {
   "cell_type": "code",
   "execution_count": 12,
   "id": "bb4d8281-c5b2-4211-88f1-df103b0bf340",
   "metadata": {},
   "outputs": [
    {
     "ename": "NameError",
     "evalue": "name 'Mc' is not defined",
     "output_type": "error",
     "traceback": [
      "\u001b[0;31m---------------------------------------------------------------------------\u001b[0m",
      "\u001b[0;31mNameError\u001b[0m                                 Traceback (most recent call last)",
      "Cell \u001b[0;32mIn [12], line 1\u001b[0m\n\u001b[0;32m----> 1\u001b[0m \u001b[43mMc\u001b[49m\u001b[38;5;241m.\u001b[39mnumpy()\n",
      "\u001b[0;31mNameError\u001b[0m: name 'Mc' is not defined"
     ]
    }
   ],
   "source": [
    "Mc.numpy()"
   ]
  },
  {
   "cell_type": "code",
   "execution_count": 13,
   "id": "d19af18a-5c20-4d0e-96cf-ff442bfef895",
   "metadata": {},
   "outputs": [
    {
     "data": {
      "text/plain": [
       "<CUDA Device 0>"
      ]
     },
     "execution_count": 13,
     "metadata": {},
     "output_type": "execute_result"
    }
   ],
   "source": [
    "M_c.device"
   ]
  },
  {
   "cell_type": "code",
   "execution_count": null,
   "id": "21611c37-5f12-4634-8421-da114c8b0698",
   "metadata": {},
   "outputs": [],
   "source": []
  }
 ],
 "metadata": {
  "kernelspec": {
   "display_name": "Python 3 (ipykernel)",
   "language": "python",
   "name": "python3"
  },
  "language_info": {
   "codemirror_mode": {
    "name": "ipython",
    "version": 3
   },
   "file_extension": ".py",
   "mimetype": "text/x-python",
   "name": "python",
   "nbconvert_exporter": "python",
   "pygments_lexer": "ipython3",
   "version": "3.10.11"
  }
 },
 "nbformat": 4,
 "nbformat_minor": 5
}
